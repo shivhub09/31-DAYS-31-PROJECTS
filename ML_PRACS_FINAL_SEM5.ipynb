{
  "nbformat": 4,
  "nbformat_minor": 0,
  "metadata": {
    "colab": {
      "provenance": [],
      "authorship_tag": "ABX9TyO0+WRkvyOc4mzwi7qcHJT3",
      "include_colab_link": true
    },
    "kernelspec": {
      "name": "python3",
      "display_name": "Python 3"
    },
    "language_info": {
      "name": "python"
    }
  },
  "cells": [
    {
      "cell_type": "markdown",
      "metadata": {
        "id": "view-in-github",
        "colab_type": "text"
      },
      "source": [
        "<a href=\"https://colab.research.google.com/github/shivhub09/31-DAYS-31-PROJECTS/blob/main/ML_PRACS_FINAL_SEM5.ipynb\" target=\"_parent\"><img src=\"https://colab.research.google.com/assets/colab-badge.svg\" alt=\"Open In Colab\"/></a>"
      ]
    },
    {
      "cell_type": "code",
      "execution_count": null,
      "metadata": {
        "id": "pCADEz9Z-ZrL"
      },
      "outputs": [],
      "source": [
        "# Implement the AND Boolean logic gate using perceptron Neural Network. Inputs = x1,\n",
        "# x2 and bias, weights should be fed into the perceptron with single Output = y. Display\n",
        "# final weights and bias of each perceptron."
      ]
    },
    {
      "cell_type": "code",
      "source": [
        "import numpy as np\n",
        "\n",
        "# Define the activation function (Step function)\n",
        "def activation_function(x):\n",
        "    return 1 if x > 0 else 0\n",
        "\n",
        "# Function to perform the AND operation using a perceptron\n",
        "def AND_perceptron(x1, x2):\n",
        "    # Input values\n",
        "    inputs = np.array([x1, x2])\n",
        "\n",
        "    # Weights and bias\n",
        "    weights = np.array([1, 1])  # You can initialize weights to different values\n",
        "    bias = -1.5  # You can initialize bias to a different value\n",
        "\n",
        "    # Calculate the weighted sum\n",
        "    weighted_sum = np.dot(inputs, weights) + bias\n",
        "\n",
        "    # Apply the activation function\n",
        "    output = activation_function(weighted_sum)\n",
        "\n",
        "    return output, weights, bias\n",
        "\n",
        "# Testing the AND gate perceptron\n",
        "print(\"Input (0, 0) - Output:\", AND_perceptron(0, 0)[0])  # Expected output: 0\n",
        "print(\"Input (0, 1) - Output:\", AND_perceptron(0, 1)[0])  # Expected output: 0\n",
        "print(\"Input (1, 0) - Output:\", AND_perceptron(1, 0)[0])  # Expected output: 0\n",
        "print(\"Input (1, 1) - Output:\", AND_perceptron(1, 1)[0])  # Expected output: 1\n",
        "\n",
        "# Display final weights and bias\n",
        "final_weights = AND_perceptron(1, 1)[1]\n",
        "final_bias = AND_perceptron(1, 1)[2]\n",
        "print(\"Final weights:\", final_weights)\n",
        "print(\"Final bias:\", final_bias)"
      ],
      "metadata": {
        "colab": {
          "base_uri": "https://localhost:8080/"
        },
        "id": "Qc7XK9IZ_YFC",
        "outputId": "ea839b8c-f4c6-4ab4-f6a3-5ea6bf82af9e"
      },
      "execution_count": 7,
      "outputs": [
        {
          "output_type": "stream",
          "name": "stdout",
          "text": [
            "Input (0, 0) - Output: 0\n",
            "Input (0, 1) - Output: 0\n",
            "Input (1, 0) - Output: 0\n",
            "Input (1, 1) - Output: 1\n",
            "Final weights: [1 1]\n",
            "Final bias: -1.5\n"
          ]
        }
      ]
    },
    {
      "cell_type": "code",
      "source": [
        "# Implement the OR Boolean logic gate using perceptron Neural Network. Inputs = x1, x2\n",
        "# and bias, weights should be fed into the perceptron with single Output = y. Display final\n",
        "# weights and bias of each perceptron."
      ],
      "metadata": {
        "id": "CYVuAqte_o0I"
      },
      "execution_count": 2,
      "outputs": []
    },
    {
      "cell_type": "code",
      "source": [
        "import numpy as np\n",
        "\n",
        "# Define the activation function (Step function)\n",
        "def activation_function(x):\n",
        "    return 1 if x > 0 else 0\n",
        "\n",
        "# Function to perform the OR operation using a perceptron\n",
        "def OR_perceptron(x1, x2):\n",
        "    # Input values\n",
        "    inputs = np.array([x1, x2])\n",
        "\n",
        "    # Weights and bias\n",
        "    weights = np.array([1, 1])  # You can initialize weights to different values\n",
        "    bias = -0.5  # You can initialize bias to a different value\n",
        "\n",
        "    # Calculate the weighted sum\n",
        "    weighted_sum = np.dot(inputs, weights) + bias\n",
        "\n",
        "    # Apply the activation function\n",
        "    output = activation_function(weighted_sum)\n",
        "\n",
        "    return output, weights, bias\n",
        "\n",
        "# Testing the OR gate perceptron\n",
        "print(\"Input (0, 0) - Output:\", OR_perceptron(0, 0)[0])  # Expected output: 0\n",
        "print(\"Input (0, 1) - Output:\", OR_perceptron(0, 1)[0])  # Expected output: 1\n",
        "print(\"Input (1, 0) - Output:\", OR_perceptron(1, 0)[0])  # Expected output: 1\n",
        "print(\"Input (1, 1) - Output:\", OR_perceptron(1, 1)[0])  # Expected output: 1\n",
        "\n",
        "# Display final weights and bias\n",
        "final_weights = OR_perceptron(1, 1)[1]\n",
        "final_bias = OR_perceptron(1, 1)[2]\n",
        "print(\"Final weights:\", final_weights)\n",
        "print(\"Final bias:\", final_bias)\n"
      ],
      "metadata": {
        "colab": {
          "base_uri": "https://localhost:8080/"
        },
        "id": "5Nc_GYIU_-AZ",
        "outputId": "6b65e065-1b9e-4ad9-b922-8919abce0b5b"
      },
      "execution_count": 3,
      "outputs": [
        {
          "output_type": "stream",
          "name": "stdout",
          "text": [
            "Input (0, 0) - Output: 0\n",
            "Input (0, 1) - Output: 1\n",
            "Input (1, 0) - Output: 1\n",
            "Input (1, 1) - Output: 1\n",
            "Final weights: [1 1]\n",
            "Final bias: -0.5\n"
          ]
        }
      ]
    },
    {
      "cell_type": "code",
      "source": [
        "# . Implement the NOT Boolean logic gate using perceptron Neural Network. Inputs = x1,\n",
        "# x2 and bias, weights should be fed into the perceptron with single Output = y. Display\n",
        "# final weights and bias of each perceptron."
      ],
      "metadata": {
        "id": "-V4lj6wKAAwJ"
      },
      "execution_count": 8,
      "outputs": []
    },
    {
      "cell_type": "code",
      "source": [
        "import numpy as np\n",
        "\n",
        "# Define the activation function (Step function)\n",
        "def activation_function(x):\n",
        "    return 1 if x > 0 else 0\n",
        "\n",
        "# Function to perform the NOT operation using a perceptron\n",
        "def NOT_perceptron(x):\n",
        "    # Input value\n",
        "    inputs = np.array([x])\n",
        "\n",
        "    # Weight and bias\n",
        "    weight = -1  # You can adjust this weight as needed\n",
        "    bias = 0.5   # You can adjust this bias as needed\n",
        "\n",
        "    # Calculate the weighted sum\n",
        "    weighted_sum = np.dot(inputs, weight) + bias\n",
        "\n",
        "    # Apply the activation function\n",
        "    output = activation_function(weighted_sum)\n",
        "\n",
        "    return output, weight, bias\n",
        "\n",
        "# Testing the NOT gate perceptron\n",
        "print(\"Input 0 - Output:\", NOT_perceptron(0)[0])  # Expected output: 1\n",
        "print(\"Input 1 - Output:\", NOT_perceptron(1)[0])  # Expected output: 0\n",
        "\n",
        "# Display final weight and bias\n",
        "final_weight = NOT_perceptron(1)[1]\n",
        "final_bias = NOT_perceptron(1)[2]\n",
        "print(\"Final weight:\", final_weight)\n",
        "print(\"Final bias:\", final_bias)\n"
      ],
      "metadata": {
        "colab": {
          "base_uri": "https://localhost:8080/"
        },
        "id": "vKcyca7zQ-ez",
        "outputId": "6f826934-f38e-474d-acd7-6d2360e00038"
      },
      "execution_count": 9,
      "outputs": [
        {
          "output_type": "stream",
          "name": "stdout",
          "text": [
            "Input 0 - Output: 1\n",
            "Input 1 - Output: 0\n",
            "Final weight: -1\n",
            "Final bias: 0.5\n"
          ]
        }
      ]
    },
    {
      "cell_type": "code",
      "source": [
        "# Implement the NOR Boolean logic gate using perceptron Neural Network. Inputs = x1,\n",
        "# x2 and bias, weights should be fed into the perceptron with single Output = y. Display\n",
        "# final weights and bias of each perceptron"
      ],
      "metadata": {
        "id": "LwnF2cJ-RA2m"
      },
      "execution_count": 10,
      "outputs": []
    },
    {
      "cell_type": "code",
      "source": [
        "import numpy as np\n",
        "\n",
        "# Define the activation function (Step function)\n",
        "def activation_function(x):\n",
        "    return 1 if x <= 0 else 0\n",
        "\n",
        "# Function to perform the NOR operation using a perceptron\n",
        "def NOR_perceptron(x1, x2):\n",
        "    # Input values\n",
        "    inputs = np.array([x1, x2])\n",
        "\n",
        "    # Weights and bias\n",
        "    weights = np.array([1,1])  # Adjust weights as needed\n",
        "    bias = -0.5  # Adjust bias as needed\n",
        "\n",
        "    # Calculate the weighted sum\n",
        "    weighted_sum = np.dot(inputs, weights) + bias\n",
        "\n",
        "    # Apply the activation function\n",
        "    output = activation_function(weighted_sum)\n",
        "\n",
        "    return output, weights, bias\n",
        "\n",
        "# Testing the NOR gate perceptron\n",
        "print(\"Input (0, 0) - Output:\", NOR_perceptron(0, 0)[0])  # Expected output: 1\n",
        "print(\"Input (0, 1) - Output:\", NOR_perceptron(0, 1)[0])  # Expected output: 0\n",
        "print(\"Input (1, 0) - Output:\", NOR_perceptron(1, 0)[0])  # Expected output: 0\n",
        "print(\"Input (1, 1) - Output:\", NOR_perceptron(1, 1)[0])  # Expected output: 0\n",
        "\n",
        "# Display final weights and bias\n",
        "final_weights = NOR_perceptron(1, 1)[1]\n",
        "final_bias = NOR_perceptron(1, 1)[2]\n",
        "print(\"Final weights:\", final_weights)\n",
        "print(\"Final bias:\", final_bias)\n"
      ],
      "metadata": {
        "colab": {
          "base_uri": "https://localhost:8080/"
        },
        "id": "kYK-b0VzS00E",
        "outputId": "bfc8c802-93b0-49e2-92a1-642d8dba77e5"
      },
      "execution_count": 21,
      "outputs": [
        {
          "output_type": "stream",
          "name": "stdout",
          "text": [
            "Input (0, 0) - Output: 1\n",
            "Input (0, 1) - Output: 0\n",
            "Input (1, 0) - Output: 0\n",
            "Input (1, 1) - Output: 0\n",
            "Final weights: [1 1]\n",
            "Final bias: -0.5\n"
          ]
        }
      ]
    },
    {
      "cell_type": "code",
      "source": [
        "# . Implement the NAND Boolean logic gate using perceptron Neural Network. Inputs = x1,\n",
        "# x2 and bias, weights should be fed into the perceptron with single Output = y. Display\n",
        "# final weights and bias of each perceptron."
      ],
      "metadata": {
        "id": "mIfaFrCzS3o8"
      },
      "execution_count": 22,
      "outputs": []
    },
    {
      "cell_type": "code",
      "source": [
        "import numpy as np\n",
        "\n",
        "# Define the activation function (Step function)\n",
        "def activation_function(x):\n",
        "    return 1 if x <= 0 else 0\n",
        "\n",
        "# Function to perform the NAND operation using a perceptron\n",
        "def NAND_perceptron(x1, x2):\n",
        "    # Input values\n",
        "    inputs = np.array([x1, x2])\n",
        "\n",
        "    # Weights and bias\n",
        "    weights = np.array([1, 1])  # Adjust weights as needed\n",
        "    bias = -1.5  # Adjust bias as needed\n",
        "\n",
        "    # Calculate the weighted sum\n",
        "    weighted_sum = np.dot(inputs, weights) + bias\n",
        "\n",
        "    # Apply the activation function\n",
        "    output = activation_function(weighted_sum)\n",
        "\n",
        "    return output, weights, bias\n",
        "\n",
        "# Testing the NAND gate perceptron\n",
        "print(\"Input (0, 0) - Output:\", NAND_perceptron(0, 0)[0])  # Expected output: 1\n",
        "print(\"Input (0, 1) - Output:\", NAND_perceptron(0, 1)[0])  # Expected output: 1\n",
        "print(\"Input (1, 0) - Output:\", NAND_perceptron(1, 0)[0])  # Expected output: 1\n",
        "print(\"Input (1, 1) - Output:\", NAND_perceptron(1, 1)[0])  # Expected output: 0\n",
        "\n",
        "# Display final weights and bias\n",
        "final_weights = NAND_perceptron(1, 1)[1]\n",
        "final_bias = NAND_perceptron(1, 1)[2]\n",
        "print(\"Final weights:\", final_weights)\n",
        "print(\"Final bias:\", final_bias)"
      ],
      "metadata": {
        "colab": {
          "base_uri": "https://localhost:8080/"
        },
        "id": "shIYHxnnTaHL",
        "outputId": "3fd89815-2999-440a-cf00-0f2775beb3c9"
      },
      "execution_count": 24,
      "outputs": [
        {
          "output_type": "stream",
          "name": "stdout",
          "text": [
            "Input (0, 0) - Output: 1\n",
            "Input (0, 1) - Output: 1\n",
            "Input (1, 0) - Output: 1\n",
            "Input (1, 1) - Output: 0\n",
            "Final weights: [1 1]\n",
            "Final bias: -1.5\n"
          ]
        }
      ]
    },
    {
      "cell_type": "code",
      "source": [
        "# Implement the XOR Boolean logic gate using perceptron Neural Network. Inputs = x1,\n",
        "# x2 and bias, weights should be fed into the perceptron with single Output = y. Display\n",
        "# final weights and bias of each perceptron."
      ],
      "metadata": {
        "id": "q0vlhRC_TcOU"
      },
      "execution_count": 25,
      "outputs": []
    },
    {
      "cell_type": "code",
      "source": [
        "import numpy as np\n",
        "\n",
        "# Activation function (Step function)\n",
        "def activation_function(x):\n",
        "    return 1 if x > 0 else 0\n",
        "\n",
        "# XOR gate function using a multi-layer perceptron\n",
        "def XOR_perceptron(x1, x2):\n",
        "    # Input values\n",
        "    inputs = np.array([x1, x2])\n",
        "\n",
        "    # Hidden layer weights and biases\n",
        "    hidden_weights = np.array([[0.5, 0.5], [-0.5, -0.5]])\n",
        "    hidden_bias = np.array([-0.5, 0.5])\n",
        "\n",
        "    # Output layer weights and bias\n",
        "    output_weights = np.array([1, -1])\n",
        "    output_bias = -0.5\n",
        "\n",
        "    # Calculate hidden layer output\n",
        "    hidden_output = np.dot(inputs, hidden_weights) + hidden_bias\n",
        "    hidden_output = np.array([activation_function(x) for x in hidden_output])\n",
        "\n",
        "    # Calculate output layer output\n",
        "    output = np.dot(hidden_output, output_weights) + output_bias\n",
        "    output = activation_function(output)\n",
        "\n",
        "    return output\n",
        "\n",
        "# Testing the XOR gate perceptron\n",
        "print(\"Input (0, 0) - Output:\", XOR_perceptron(0, 0))  # Expected output: 0\n",
        "print(\"Input (0, 1) - Output:\", XOR_perceptron(0, 1))  # Expected output: 1\n",
        "print(\"Input (1, 0) - Output:\", XOR_perceptron(1, 0))  # Expected output: 1\n",
        "print(\"Input (1, 1) - Output:\", XOR_perceptron(1, 1))  # Expected output: 0"
      ],
      "metadata": {
        "colab": {
          "base_uri": "https://localhost:8080/"
        },
        "id": "n0HhR4Z2Tj5o",
        "outputId": "4b8566d7-5c92-4e10-91e4-d4e923db5899"
      },
      "execution_count": 31,
      "outputs": [
        {
          "output_type": "stream",
          "name": "stdout",
          "text": [
            "Input (0, 0) - Output: 0\n",
            "Input (0, 1) - Output: 1\n",
            "Input (1, 0) - Output: 0\n",
            "Input (1, 1) - Output: 0\n"
          ]
        }
      ]
    },
    {
      "cell_type": "code",
      "source": [
        "# THIS IS THE SECOND COMMIT"
      ],
      "metadata": {
        "id": "S8HtCmyFTma1"
      },
      "execution_count": null,
      "outputs": []
    }
  ]
}